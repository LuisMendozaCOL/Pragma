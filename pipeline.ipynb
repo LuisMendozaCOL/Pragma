{
 "cells": [
  {
   "attachments": {},
   "cell_type": "markdown",
   "metadata": {},
   "source": [
    "## Creación de base de datos y tabla"
   ]
  },
  {
   "cell_type": "code",
   "execution_count": null,
   "metadata": {},
   "outputs": [],
   "source": [
    "from sqlalchemy import create_engine, Column, Integer, String, Date\n",
    "from sqlalchemy.ext.declarative import declarative_base\n",
    "\n",
    "Base = declarative_base()\n",
    "\n",
    "class MyTable(Base):\n",
    "    __tablename__ = 'compras'\n",
    "    id = Column(Integer, primary_key = True, autoincrement = True)\n",
    "    id_usuario = Column(Integer)\n",
    "    fecha = Column(Date)\n",
    "    precio = Column(Integer)\n",
    "\n",
    "engine = create_engine('sqlite:///Pragma.db')\n",
    "Base.metadata.create_all(engine)\n"
   ]
  },
  {
   "attachments": {},
   "cell_type": "markdown",
   "metadata": {},
   "source": [
    "## Lectura de archivos y llenado de base de datos"
   ]
  },
  {
   "cell_type": "code",
   "execution_count": 69,
   "metadata": {},
   "outputs": [
    {
     "name": "stdout",
     "output_type": "stream",
     "text": [
      "Cargue exitoso del bache Nº 1 / 5\n",
      "   conteo  promedio  mínimo  máximo\n",
      "0       5      47.0    14.0    87.0\n",
      "\n",
      "\n",
      "Cargue exitoso del bache Nº 2 / 5\n",
      "   conteo  promedio  mínimo  máximo\n",
      "0      10      63.0    14.0    97.0\n",
      "\n",
      "\n",
      "Cargue exitoso del bache Nº 3 / 5\n",
      "   conteo  promedio  mínimo  máximo\n",
      "0      15    54.875    14.0    97.0\n",
      "\n",
      "\n",
      "Cargue exitoso del bache Nº 4 / 5\n",
      "   conteo  promedio  mínimo  máximo\n",
      "0      20   56.2375    14.0    97.0\n",
      "\n",
      "\n",
      "Cargue exitoso del bache Nº 5 / 5\n",
      "   conteo  promedio  mínimo  máximo\n",
      "0      22  72.11875    14.0    97.0\n",
      "\n",
      "\n"
     ]
    }
   ],
   "source": [
    "def print_stat(conteo, promedio, minimo, maximo):\n",
    "    stat = pd.DataFrame(dict(conteo=[conteo], promedio=[promedio], mínimo=[minimo], máximo=[maximo]))\n",
    "    print(stat)\n",
    "    print(\"\\n\")\n",
    "    \n",
    "import csv\n",
    "import pandas as pd\n",
    "  \n",
    "LISTA_DE_ARCHIVOS = [\"2012-1.csv\"] #todo: completar lista\n",
    "\n",
    "# todo: iterar a través de todos los archivos\n",
    "\n",
    "fechas = []\n",
    "precios = []\n",
    "ids = []\n",
    "f_casting_precios = lambda x: int(x) if len(x)> 0 else None\n",
    "\n",
    "with open(\"Archivos/\"+LISTA_DE_ARCHIVOS[0], \"r\") as archivo:\n",
    "    lector = csv.reader(archivo, delimiter=\",\")\n",
    "    next(lector)\n",
    "    for linea in lector:\n",
    "        fechas.append(linea[0])\n",
    "        precios.append(f_casting_precios(linea[1]))\n",
    "        ids.append(int(linea[2]))\n",
    "\n",
    "# Load formated CSV data into a pandas dataframe\n",
    "diccionario = dict(fecha=fechas, precio=precios, id_usuario=ids)\n",
    "df = pd.DataFrame(diccionario)\n",
    "\n",
    "# Set batch size\n",
    "batch_size = 5\n",
    "conteo = 0\n",
    "promedio = None\n",
    "minimo = 100\n",
    "maximo = 0\n",
    "calc_cum_promedio = lambda anterior_prom, prom: (anterior_prom+prom)/2 if anterior_prom is not None else prom\n",
    "calc_cum_min = lambda anterior_min, min_: min_ if min_ < anterior_min else anterior_min\n",
    "calc_cum_max = lambda anterior_max, max_: max_ if max_ > anterior_max else anterior_max\n",
    "\n",
    "# Iterate over the dataframe in batches\n",
    "batch_count = 1\n",
    "for i in range(0, len(df), batch_size):\n",
    "    # Extract batch of data\n",
    "    batch = df[i:i+batch_size]\n",
    "    # Write batch to SQL database\n",
    "    try:\n",
    "        batch.to_sql('compras', con=engine, if_exists='append', index=False)\n",
    "        print(\"Cargue exitoso del bache Nº\", batch_count, \"/\", batch_size)\n",
    "        batch_count+=1\n",
    "        conteo += batch.fecha.count()\n",
    "        promedio = calc_cum_promedio(promedio,batch.precio.mean())\n",
    "        minimo = calc_cum_min(minimo, batch.precio.min())\n",
    "        maximo = calc_cum_max(maximo, batch.precio.max())\n",
    "        print_stat(conteo, promedio, minimo, maximo)\n",
    "    except Exception as e:\n",
    "        print(\"Error mientras se guardaba la información en la base de datos:\")\n",
    "        print(e.args)\n",
    "        \n"
   ]
  }
 ],
 "metadata": {
  "kernelspec": {
   "display_name": "Python 3",
   "language": "python",
   "name": "python3"
  },
  "language_info": {
   "codemirror_mode": {
    "name": "ipython",
    "version": 3
   },
   "file_extension": ".py",
   "mimetype": "text/x-python",
   "name": "python",
   "nbconvert_exporter": "python",
   "pygments_lexer": "ipython3",
   "version": "3.10.5"
  },
  "orig_nbformat": 4,
  "vscode": {
   "interpreter": {
    "hash": "126c3a0ce2a7a2deaf72b96d74622cd1f78bb27d76940ace510d823b4fb9b229"
   }
  }
 },
 "nbformat": 4,
 "nbformat_minor": 2
}
